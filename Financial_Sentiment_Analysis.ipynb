{
  "cells": [
    {
      "cell_type": "markdown",
      "id": "cece4ad1",
      "metadata": {
        "id": "cece4ad1"
      },
      "source": [
        "# Importing Libraries"
      ]
    },
    {
      "cell_type": "code",
      "execution_count": null,
      "id": "9b318420",
      "metadata": {
        "id": "9b318420",
        "outputId": "48b6822b-f202-4258-c879-5013633bc2df"
      },
      "outputs": [
        {
          "name": "stderr",
          "output_type": "stream",
          "text": [
            "[nltk_data] Downloading package stopwords to\n",
            "[nltk_data]     C:\\Users\\Turki\\AppData\\Roaming\\nltk_data...\n",
            "[nltk_data]   Package stopwords is already up-to-date!\n",
            "[nltk_data] Downloading package wordnet to\n",
            "[nltk_data]     C:\\Users\\Turki\\AppData\\Roaming\\nltk_data...\n",
            "[nltk_data]   Package wordnet is already up-to-date!\n",
            "[nltk_data] Downloading package omw-1.4 to\n",
            "[nltk_data]     C:\\Users\\Turki\\AppData\\Roaming\\nltk_data...\n",
            "[nltk_data]   Package omw-1.4 is already up-to-date!\n"
          ]
        }
      ],
      "source": [
        "import pandas as pd\n",
        "import matplotlib.pyplot as plt\n",
        "import numpy as np\n",
        "import re\n",
        "import nltk\n",
        "nltk.download('stopwords')\n",
        "nltk.download('wordnet')\n",
        "nltk.download('omw-1.4')\n",
        "from nltk.stem import WordNetLemmatizer\n",
        "import warnings\n",
        "warnings.filterwarnings('ignore')\n",
        "from nltk.corpus import stopwords\n",
        "from sklearn.feature_extraction.text import CountVectorizer,TfidfVectorizer\n",
        "from sklearn.preprocessing import LabelEncoder\n",
        "from sklearn.model_selection import train_test_split\n",
        "from sklearn.svm import SVC\n",
        "import seaborn as sns\n",
        "from sklearn.metrics import confusion_matrix,f1_score\n"
      ]
    },
    {
      "cell_type": "code",
      "execution_count": null,
      "id": "571eef26",
      "metadata": {
        "id": "571eef26",
        "outputId": "ad17a4f5-100c-45db-c01c-a6cdd02d25b0"
      },
      "outputs": [
        {
          "data": {
            "text/html": [
              "<div>\n",
              "<style scoped>\n",
              "    .dataframe tbody tr th:only-of-type {\n",
              "        vertical-align: middle;\n",
              "    }\n",
              "\n",
              "    .dataframe tbody tr th {\n",
              "        vertical-align: top;\n",
              "    }\n",
              "\n",
              "    .dataframe thead th {\n",
              "        text-align: right;\n",
              "    }\n",
              "</style>\n",
              "<table border=\"1\" class=\"dataframe\">\n",
              "  <thead>\n",
              "    <tr style=\"text-align: right;\">\n",
              "      <th></th>\n",
              "      <th>Sentence</th>\n",
              "      <th>Sentiment</th>\n",
              "    </tr>\n",
              "  </thead>\n",
              "  <tbody>\n",
              "    <tr>\n",
              "      <th>0</th>\n",
              "      <td>The GeoSolutions technology will leverage Bene...</td>\n",
              "      <td>positive</td>\n",
              "    </tr>\n",
              "    <tr>\n",
              "      <th>1</th>\n",
              "      <td>$ESI on lows, down $1.50 to $2.50 BK a real po...</td>\n",
              "      <td>negative</td>\n",
              "    </tr>\n",
              "    <tr>\n",
              "      <th>2</th>\n",
              "      <td>For the last quarter of 2010 , Componenta 's n...</td>\n",
              "      <td>positive</td>\n",
              "    </tr>\n",
              "    <tr>\n",
              "      <th>3</th>\n",
              "      <td>According to the Finnish-Russian Chamber of Co...</td>\n",
              "      <td>neutral</td>\n",
              "    </tr>\n",
              "    <tr>\n",
              "      <th>4</th>\n",
              "      <td>The Swedish buyout firm has sold its remaining...</td>\n",
              "      <td>neutral</td>\n",
              "    </tr>\n",
              "  </tbody>\n",
              "</table>\n",
              "</div>"
            ],
            "text/plain": [
              "                                            Sentence Sentiment\n",
              "0  The GeoSolutions technology will leverage Bene...  positive\n",
              "1  $ESI on lows, down $1.50 to $2.50 BK a real po...  negative\n",
              "2  For the last quarter of 2010 , Componenta 's n...  positive\n",
              "3  According to the Finnish-Russian Chamber of Co...   neutral\n",
              "4  The Swedish buyout firm has sold its remaining...   neutral"
            ]
          },
          "execution_count": 2,
          "metadata": {},
          "output_type": "execute_result"
        }
      ],
      "source": [
        "df = pd.read_csv(\"data.csv\")\n",
        "df.head()"
      ]
    },
    {
      "cell_type": "code",
      "execution_count": null,
      "id": "7ef774cf",
      "metadata": {
        "id": "7ef774cf",
        "outputId": "18ad8c58-f1b9-475f-fac0-1e4b95006ed6"
      },
      "outputs": [
        {
          "name": "stdout",
          "output_type": "stream",
          "text": [
            "<class 'pandas.core.frame.DataFrame'>\n",
            "RangeIndex: 5842 entries, 0 to 5841\n",
            "Data columns (total 2 columns):\n",
            " #   Column     Non-Null Count  Dtype \n",
            "---  ------     --------------  ----- \n",
            " 0   Sentence   5842 non-null   object\n",
            " 1   Sentiment  5842 non-null   object\n",
            "dtypes: object(2)\n",
            "memory usage: 91.4+ KB\n"
          ]
        }
      ],
      "source": [
        "df.info()"
      ]
    },
    {
      "cell_type": "code",
      "execution_count": null,
      "id": "f6c2eeb4",
      "metadata": {
        "id": "f6c2eeb4",
        "outputId": "ef0294c0-76d7-4054-c588-b6bd2f0596d7"
      },
      "outputs": [
        {
          "data": {
            "image/png": "[encoded data removed]",
            "text/plain": [
              "<Figure size 720x432 with 1 Axes>"
            ]
          },
          "metadata": {
            "needs_background": "light"
          },
          "output_type": "display_data"
        }
      ],
      "source": [
        "df['Sentiment'].value_counts().plot(kind='bar',figsize=(10,6),grid='-')\n",
        "plt.show()"
      ]
    },
    {
      "cell_type": "markdown",
      "id": "3a073b54",
      "metadata": {
        "id": "3a073b54"
      },
      "source": [
        "# Data preprocessing"
      ]
    },
    {
      "cell_type": "code",
      "execution_count": null,
      "id": "cfce7d2d",
      "metadata": {
        "id": "cfce7d2d"
      },
      "outputs": [],
      "source": [
        "# defininig a fuction which takes a column of sentences and does preprocessing of texts of sentences\n",
        "def cleaning(df1):\n",
        "    lowered=df1.lower()    # lowering the sentences\n",
        "    removed=re.sub(r'[^a-z]',' ',lowered)  # replacing the non alphabets with space\n",
        "    splitted=removed.split(' ')   # splitting the sentences by spaces\n",
        "    df1= [WordNetLemmatizer().lemmatize(word) for word in splitted if word not in stopwords.words('english')]  # lemmatizing and removing stopwords from list\n",
        "    df1=' '.join(df1) # joining back the words of list\n",
        "    return(df1) # returning the cleaned words"
      ]
    },
    {
      "cell_type": "code",
      "execution_count": null,
      "id": "c6408200",
      "metadata": {
        "scrolled": false,
        "id": "c6408200"
      },
      "outputs": [],
      "source": [
        "df['Sentence']=df['Sentence'].apply(cleaning)"
      ]
    },
    {
      "cell_type": "code",
      "execution_count": null,
      "id": "014de96c",
      "metadata": {
        "id": "014de96c",
        "outputId": "e29c95cb-c5b4-4e97-9b54-e73f7e206a41"
      },
      "outputs": [
        {
          "data": {
            "text/html": [
              "<div>\n",
              "<style scoped>\n",
              "    .dataframe tbody tr th:only-of-type {\n",
              "        vertical-align: middle;\n",
              "    }\n",
              "\n",
              "    .dataframe tbody tr th {\n",
              "        vertical-align: top;\n",
              "    }\n",
              "\n",
              "    .dataframe thead th {\n",
              "        text-align: right;\n",
              "    }\n",
              "</style>\n",
              "<table border=\"1\" class=\"dataframe\">\n",
              "  <thead>\n",
              "    <tr style=\"text-align: right;\">\n",
              "      <th></th>\n",
              "      <th>Sentence</th>\n",
              "      <th>Sentiment</th>\n",
              "    </tr>\n",
              "  </thead>\n",
              "  <tbody>\n",
              "    <tr>\n",
              "      <th>0</th>\n",
              "      <td>geosolutions technology leverage benefon  gps ...</td>\n",
              "      <td>positive</td>\n",
              "    </tr>\n",
              "    <tr>\n",
              "      <th>1</th>\n",
              "      <td>esi low              bk real possibility</td>\n",
              "      <td>negative</td>\n",
              "    </tr>\n",
              "    <tr>\n",
              "      <th>2</th>\n",
              "      <td>last quarter        componenta  net sale doubl...</td>\n",
              "      <td>positive</td>\n",
              "    </tr>\n",
              "    <tr>\n",
              "      <th>3</th>\n",
              "      <td>according finnish russian chamber commerce   m...</td>\n",
              "      <td>neutral</td>\n",
              "    </tr>\n",
              "    <tr>\n",
              "      <th>4</th>\n",
              "      <td>swedish buyout firm sold remaining      percen...</td>\n",
              "      <td>neutral</td>\n",
              "    </tr>\n",
              "  </tbody>\n",
              "</table>\n",
              "</div>"
            ],
            "text/plain": [
              "                                            Sentence Sentiment\n",
              "0  geosolutions technology leverage benefon  gps ...  positive\n",
              "1           esi low              bk real possibility  negative\n",
              "2  last quarter        componenta  net sale doubl...  positive\n",
              "3  according finnish russian chamber commerce   m...   neutral\n",
              "4  swedish buyout firm sold remaining      percen...   neutral"
            ]
          },
          "execution_count": 7,
          "metadata": {},
          "output_type": "execute_result"
        }
      ],
      "source": [
        "df.head()"
      ]
    },
    {
      "cell_type": "code",
      "execution_count": null,
      "id": "bfd21e31",
      "metadata": {
        "id": "bfd21e31"
      },
      "outputs": [],
      "source": [
        "# for tfidf vectorizer\n",
        "tfidf=TfidfVectorizer()\n",
        "data=tfidf.fit_transform(df['Sentence'])\n",
        "df_dtm = pd.DataFrame(data.toarray(), columns=tfidf.get_feature_names())\n",
        "df_dtm[\"Sentiment\"]=df['Sentiment']"
      ]
    },
    {
      "cell_type": "code",
      "execution_count": null,
      "id": "bc22ef56",
      "metadata": {
        "id": "bc22ef56",
        "outputId": "d68bea31-3098-465e-fec0-6a972aa9f4a0"
      },
      "outputs": [
        {
          "data": {
            "text/html": [
              "<div>\n",
              "<style scoped>\n",
              "    .dataframe tbody tr th:only-of-type {\n",
              "        vertical-align: middle;\n",
              "    }\n",
              "\n",
              "    .dataframe tbody tr th {\n",
              "        vertical-align: top;\n",
              "    }\n",
              "\n",
              "    .dataframe thead th {\n",
              "        text-align: right;\n",
              "    }\n",
              "</style>\n",
              "<table border=\"1\" class=\"dataframe\">\n",
              "  <thead>\n",
              "    <tr style=\"text-align: right;\">\n",
              "      <th></th>\n",
              "      <th>aa</th>\n",
              "      <th>aal</th>\n",
              "      <th>aaland</th>\n",
              "      <th>aalto</th>\n",
              "      <th>aaltonen</th>\n",
              "      <th>aapl</th>\n",
              "      <th>aaron</th>\n",
              "      <th>aava</th>\n",
              "      <th>aazhang</th>\n",
              "      <th>ab</th>\n",
              "      <th>...</th>\n",
              "      <th>zoo</th>\n",
              "      <th>zp</th>\n",
              "      <th>zsl</th>\n",
              "      <th>zte</th>\n",
              "      <th>zu</th>\n",
              "      <th>zurich</th>\n",
              "      <th>zwe</th>\n",
              "      <th>zwhthsvfsf</th>\n",
              "      <th>zy</th>\n",
              "      <th>Sentiment</th>\n",
              "    </tr>\n",
              "  </thead>\n",
              "  <tbody>\n",
              "    <tr>\n",
              "      <th>0</th>\n",
              "      <td>0.0</td>\n",
              "      <td>0.0</td>\n",
              "      <td>0.0</td>\n",
              "      <td>0.0</td>\n",
              "      <td>0.0</td>\n",
              "      <td>0.0</td>\n",
              "      <td>0.0</td>\n",
              "      <td>0.0</td>\n",
              "      <td>0.0</td>\n",
              "      <td>0.0</td>\n",
              "      <td>...</td>\n",
              "      <td>0.0</td>\n",
              "      <td>0.0</td>\n",
              "      <td>0.0</td>\n",
              "      <td>0.0</td>\n",
              "      <td>0.0</td>\n",
              "      <td>0.0</td>\n",
              "      <td>0.0</td>\n",
              "      <td>0.0</td>\n",
              "      <td>0.0</td>\n",
              "      <td>positive</td>\n",
              "    </tr>\n",
              "    <tr>\n",
              "      <th>1</th>\n",
              "      <td>0.0</td>\n",
              "      <td>0.0</td>\n",
              "      <td>0.0</td>\n",
              "      <td>0.0</td>\n",
              "      <td>0.0</td>\n",
              "      <td>0.0</td>\n",
              "      <td>0.0</td>\n",
              "      <td>0.0</td>\n",
              "      <td>0.0</td>\n",
              "      <td>0.0</td>\n",
              "      <td>...</td>\n",
              "      <td>0.0</td>\n",
              "      <td>0.0</td>\n",
              "      <td>0.0</td>\n",
              "      <td>0.0</td>\n",
              "      <td>0.0</td>\n",
              "      <td>0.0</td>\n",
              "      <td>0.0</td>\n",
              "      <td>0.0</td>\n",
              "      <td>0.0</td>\n",
              "      <td>negative</td>\n",
              "    </tr>\n",
              "    <tr>\n",
              "      <th>2</th>\n",
              "      <td>0.0</td>\n",
              "      <td>0.0</td>\n",
              "      <td>0.0</td>\n",
              "      <td>0.0</td>\n",
              "      <td>0.0</td>\n",
              "      <td>0.0</td>\n",
              "      <td>0.0</td>\n",
              "      <td>0.0</td>\n",
              "      <td>0.0</td>\n",
              "      <td>0.0</td>\n",
              "      <td>...</td>\n",
              "      <td>0.0</td>\n",
              "      <td>0.0</td>\n",
              "      <td>0.0</td>\n",
              "      <td>0.0</td>\n",
              "      <td>0.0</td>\n",
              "      <td>0.0</td>\n",
              "      <td>0.0</td>\n",
              "      <td>0.0</td>\n",
              "      <td>0.0</td>\n",
              "      <td>positive</td>\n",
              "    </tr>\n",
              "    <tr>\n",
              "      <th>3</th>\n",
              "      <td>0.0</td>\n",
              "      <td>0.0</td>\n",
              "      <td>0.0</td>\n",
              "      <td>0.0</td>\n",
              "      <td>0.0</td>\n",
              "      <td>0.0</td>\n",
              "      <td>0.0</td>\n",
              "      <td>0.0</td>\n",
              "      <td>0.0</td>\n",
              "      <td>0.0</td>\n",
              "      <td>...</td>\n",
              "      <td>0.0</td>\n",
              "      <td>0.0</td>\n",
              "      <td>0.0</td>\n",
              "      <td>0.0</td>\n",
              "      <td>0.0</td>\n",
              "      <td>0.0</td>\n",
              "      <td>0.0</td>\n",
              "      <td>0.0</td>\n",
              "      <td>0.0</td>\n",
              "      <td>neutral</td>\n",
              "    </tr>\n",
              "    <tr>\n",
              "      <th>4</th>\n",
              "      <td>0.0</td>\n",
              "      <td>0.0</td>\n",
              "      <td>0.0</td>\n",
              "      <td>0.0</td>\n",
              "      <td>0.0</td>\n",
              "      <td>0.0</td>\n",
              "      <td>0.0</td>\n",
              "      <td>0.0</td>\n",
              "      <td>0.0</td>\n",
              "      <td>0.0</td>\n",
              "      <td>...</td>\n",
              "      <td>0.0</td>\n",
              "      <td>0.0</td>\n",
              "      <td>0.0</td>\n",
              "      <td>0.0</td>\n",
              "      <td>0.0</td>\n",
              "      <td>0.0</td>\n",
              "      <td>0.0</td>\n",
              "      <td>0.0</td>\n",
              "      <td>0.0</td>\n",
              "      <td>neutral</td>\n",
              "    </tr>\n",
              "  </tbody>\n",
              "</table>\n",
              "<p>5 rows × 9298 columns</p>\n",
              "</div>"
            ],
            "text/plain": [
              "    aa  aal  aaland  aalto  aaltonen  aapl  aaron  aava  aazhang   ab  ...  \\\n",
              "0  0.0  0.0     0.0    0.0       0.0   0.0    0.0   0.0      0.0  0.0  ...   \n",
              "1  0.0  0.0     0.0    0.0       0.0   0.0    0.0   0.0      0.0  0.0  ...   \n",
              "2  0.0  0.0     0.0    0.0       0.0   0.0    0.0   0.0      0.0  0.0  ...   \n",
              "3  0.0  0.0     0.0    0.0       0.0   0.0    0.0   0.0      0.0  0.0  ...   \n",
              "4  0.0  0.0     0.0    0.0       0.0   0.0    0.0   0.0      0.0  0.0  ...   \n",
              "\n",
              "   zoo   zp  zsl  zte   zu  zurich  zwe  zwhthsvfsf   zy  Sentiment  \n",
              "0  0.0  0.0  0.0  0.0  0.0     0.0  0.0         0.0  0.0   positive  \n",
              "1  0.0  0.0  0.0  0.0  0.0     0.0  0.0         0.0  0.0   negative  \n",
              "2  0.0  0.0  0.0  0.0  0.0     0.0  0.0         0.0  0.0   positive  \n",
              "3  0.0  0.0  0.0  0.0  0.0     0.0  0.0         0.0  0.0    neutral  \n",
              "4  0.0  0.0  0.0  0.0  0.0     0.0  0.0         0.0  0.0    neutral  \n",
              "\n",
              "[5 rows x 9298 columns]"
            ]
          },
          "execution_count": 9,
          "metadata": {},
          "output_type": "execute_result"
        }
      ],
      "source": [
        "df_dtm.head()"
      ]
    },
    {
      "cell_type": "markdown",
      "id": "f5b76799",
      "metadata": {
        "id": "f5b76799"
      },
      "source": [
        "# Label encoding"
      ]
    },
    {
      "cell_type": "code",
      "execution_count": null,
      "id": "923a51c5",
      "metadata": {
        "id": "923a51c5"
      },
      "outputs": [],
      "source": [
        "le=LabelEncoder()\n",
        "df_dtm['Sentiment']=le.fit_transform(df_dtm['Sentiment'])"
      ]
    },
    {
      "cell_type": "code",
      "execution_count": null,
      "id": "3dc2a8eb",
      "metadata": {
        "id": "3dc2a8eb",
        "outputId": "b9b0c696-dcf0-4d3d-bb5a-b22b5eda25ee"
      },
      "outputs": [
        {
          "data": {
            "text/html": [
              "<div>\n",
              "<style scoped>\n",
              "    .dataframe tbody tr th:only-of-type {\n",
              "        vertical-align: middle;\n",
              "    }\n",
              "\n",
              "    .dataframe tbody tr th {\n",
              "        vertical-align: top;\n",
              "    }\n",
              "\n",
              "    .dataframe thead th {\n",
              "        text-align: right;\n",
              "    }\n",
              "</style>\n",
              "<table border=\"1\" class=\"dataframe\">\n",
              "  <thead>\n",
              "    <tr style=\"text-align: right;\">\n",
              "      <th></th>\n",
              "      <th>aa</th>\n",
              "      <th>aal</th>\n",
              "      <th>aaland</th>\n",
              "      <th>aalto</th>\n",
              "      <th>aaltonen</th>\n",
              "      <th>aapl</th>\n",
              "      <th>aaron</th>\n",
              "      <th>aava</th>\n",
              "      <th>aazhang</th>\n",
              "      <th>ab</th>\n",
              "      <th>...</th>\n",
              "      <th>zoo</th>\n",
              "      <th>zp</th>\n",
              "      <th>zsl</th>\n",
              "      <th>zte</th>\n",
              "      <th>zu</th>\n",
              "      <th>zurich</th>\n",
              "      <th>zwe</th>\n",
              "      <th>zwhthsvfsf</th>\n",
              "      <th>zy</th>\n",
              "      <th>Sentiment</th>\n",
              "    </tr>\n",
              "  </thead>\n",
              "  <tbody>\n",
              "    <tr>\n",
              "      <th>0</th>\n",
              "      <td>0.0</td>\n",
              "      <td>0.0</td>\n",
              "      <td>0.0</td>\n",
              "      <td>0.0</td>\n",
              "      <td>0.0</td>\n",
              "      <td>0.0</td>\n",
              "      <td>0.0</td>\n",
              "      <td>0.0</td>\n",
              "      <td>0.0</td>\n",
              "      <td>0.0</td>\n",
              "      <td>...</td>\n",
              "      <td>0.0</td>\n",
              "      <td>0.0</td>\n",
              "      <td>0.0</td>\n",
              "      <td>0.0</td>\n",
              "      <td>0.0</td>\n",
              "      <td>0.0</td>\n",
              "      <td>0.0</td>\n",
              "      <td>0.0</td>\n",
              "      <td>0.0</td>\n",
              "      <td>2</td>\n",
              "    </tr>\n",
              "    <tr>\n",
              "      <th>1</th>\n",
              "      <td>0.0</td>\n",
              "      <td>0.0</td>\n",
              "      <td>0.0</td>\n",
              "      <td>0.0</td>\n",
              "      <td>0.0</td>\n",
              "      <td>0.0</td>\n",
              "      <td>0.0</td>\n",
              "      <td>0.0</td>\n",
              "      <td>0.0</td>\n",
              "      <td>0.0</td>\n",
              "      <td>...</td>\n",
              "      <td>0.0</td>\n",
              "      <td>0.0</td>\n",
              "      <td>0.0</td>\n",
              "      <td>0.0</td>\n",
              "      <td>0.0</td>\n",
              "      <td>0.0</td>\n",
              "      <td>0.0</td>\n",
              "      <td>0.0</td>\n",
              "      <td>0.0</td>\n",
              "      <td>0</td>\n",
              "    </tr>\n",
              "    <tr>\n",
              "      <th>2</th>\n",
              "      <td>0.0</td>\n",
              "      <td>0.0</td>\n",
              "      <td>0.0</td>\n",
              "      <td>0.0</td>\n",
              "      <td>0.0</td>\n",
              "      <td>0.0</td>\n",
              "      <td>0.0</td>\n",
              "      <td>0.0</td>\n",
              "      <td>0.0</td>\n",
              "      <td>0.0</td>\n",
              "      <td>...</td>\n",
              "      <td>0.0</td>\n",
              "      <td>0.0</td>\n",
              "      <td>0.0</td>\n",
              "      <td>0.0</td>\n",
              "      <td>0.0</td>\n",
              "      <td>0.0</td>\n",
              "      <td>0.0</td>\n",
              "      <td>0.0</td>\n",
              "      <td>0.0</td>\n",
              "      <td>2</td>\n",
              "    </tr>\n",
              "    <tr>\n",
              "      <th>3</th>\n",
              "      <td>0.0</td>\n",
              "      <td>0.0</td>\n",
              "      <td>0.0</td>\n",
              "      <td>0.0</td>\n",
              "      <td>0.0</td>\n",
              "      <td>0.0</td>\n",
              "      <td>0.0</td>\n",
              "      <td>0.0</td>\n",
              "      <td>0.0</td>\n",
              "      <td>0.0</td>\n",
              "      <td>...</td>\n",
              "      <td>0.0</td>\n",
              "      <td>0.0</td>\n",
              "      <td>0.0</td>\n",
              "      <td>0.0</td>\n",
              "      <td>0.0</td>\n",
              "      <td>0.0</td>\n",
              "      <td>0.0</td>\n",
              "      <td>0.0</td>\n",
              "      <td>0.0</td>\n",
              "      <td>1</td>\n",
              "    </tr>\n",
              "    <tr>\n",
              "      <th>4</th>\n",
              "      <td>0.0</td>\n",
              "      <td>0.0</td>\n",
              "      <td>0.0</td>\n",
              "      <td>0.0</td>\n",
              "      <td>0.0</td>\n",
              "      <td>0.0</td>\n",
              "      <td>0.0</td>\n",
              "      <td>0.0</td>\n",
              "      <td>0.0</td>\n",
              "      <td>0.0</td>\n",
              "      <td>...</td>\n",
              "      <td>0.0</td>\n",
              "      <td>0.0</td>\n",
              "      <td>0.0</td>\n",
              "      <td>0.0</td>\n",
              "      <td>0.0</td>\n",
              "      <td>0.0</td>\n",
              "      <td>0.0</td>\n",
              "      <td>0.0</td>\n",
              "      <td>0.0</td>\n",
              "      <td>1</td>\n",
              "    </tr>\n",
              "  </tbody>\n",
              "</table>\n",
              "<p>5 rows × 9298 columns</p>\n",
              "</div>"
            ],
            "text/plain": [
              "    aa  aal  aaland  aalto  aaltonen  aapl  aaron  aava  aazhang   ab  ...  \\\n",
              "0  0.0  0.0     0.0    0.0       0.0   0.0    0.0   0.0      0.0  0.0  ...   \n",
              "1  0.0  0.0     0.0    0.0       0.0   0.0    0.0   0.0      0.0  0.0  ...   \n",
              "2  0.0  0.0     0.0    0.0       0.0   0.0    0.0   0.0      0.0  0.0  ...   \n",
              "3  0.0  0.0     0.0    0.0       0.0   0.0    0.0   0.0      0.0  0.0  ...   \n",
              "4  0.0  0.0     0.0    0.0       0.0   0.0    0.0   0.0      0.0  0.0  ...   \n",
              "\n",
              "   zoo   zp  zsl  zte   zu  zurich  zwe  zwhthsvfsf   zy  Sentiment  \n",
              "0  0.0  0.0  0.0  0.0  0.0     0.0  0.0         0.0  0.0          2  \n",
              "1  0.0  0.0  0.0  0.0  0.0     0.0  0.0         0.0  0.0          0  \n",
              "2  0.0  0.0  0.0  0.0  0.0     0.0  0.0         0.0  0.0          2  \n",
              "3  0.0  0.0  0.0  0.0  0.0     0.0  0.0         0.0  0.0          1  \n",
              "4  0.0  0.0  0.0  0.0  0.0     0.0  0.0         0.0  0.0          1  \n",
              "\n",
              "[5 rows x 9298 columns]"
            ]
          },
          "execution_count": 11,
          "metadata": {},
          "output_type": "execute_result"
        }
      ],
      "source": [
        "df_dtm.head()"
      ]
    },
    {
      "cell_type": "code",
      "execution_count": null,
      "id": "5590678b",
      "metadata": {
        "id": "5590678b"
      },
      "outputs": [],
      "source": [
        "X=df_dtm.drop('Sentiment',axis=1)\n",
        "y=df_dtm['Sentiment']"
      ]
    },
    {
      "cell_type": "code",
      "execution_count": null,
      "id": "20931456",
      "metadata": {
        "id": "20931456"
      },
      "outputs": [],
      "source": [
        "X_train, X_test, y_train, y_test = train_test_split(X,y,test_size=0.2,stratify=df_dtm['Sentiment'])"
      ]
    },
    {
      "cell_type": "code",
      "execution_count": null,
      "id": "a18e2ea5",
      "metadata": {
        "id": "a18e2ea5"
      },
      "outputs": [],
      "source": [
        "svc=SVC(kernel='linear')\n",
        "svc.fit(X_train,y_train)\n",
        "y_pred=svc.predict(X_test)"
      ]
    },
    {
      "cell_type": "code",
      "execution_count": null,
      "id": "b03b8a2f",
      "metadata": {
        "id": "b03b8a2f",
        "outputId": "9bbc471f-d535-4d6e-f33d-dfcfc46201f7"
      },
      "outputs": [
        {
          "name": "stdout",
          "output_type": "stream",
          "text": [
            "[[ 33 116  23]\n",
            " [ 23 567  36]\n",
            " [ 16 133 222]]\n"
          ]
        }
      ],
      "source": [
        "print(confusion_matrix(y_test, y_pred))"
      ]
    },
    {
      "cell_type": "code",
      "execution_count": null,
      "id": "65b8b166",
      "metadata": {
        "id": "65b8b166",
        "outputId": "99670342-475f-4771-fdea-6a9cd80c6ee0"
      },
      "outputs": [
        {
          "data": {
            "text/plain": [
              "0.7031650983746792"
            ]
          },
          "execution_count": 16,
          "metadata": {},
          "output_type": "execute_result"
        }
      ],
      "source": [
        "from sklearn.metrics import accuracy_score\n",
        "accuracy_score(y_pred,y_test)"
      ]
    },
    {
      "cell_type": "code",
      "execution_count": null,
      "id": "8b9ecb4c",
      "metadata": {
        "id": "8b9ecb4c",
        "outputId": "4446de1b-c62b-4f7f-ab64-3ac7dfd7c859"
      },
      "outputs": [
        {
          "data": {
            "text/plain": [
              "0.7292899708477351"
            ]
          },
          "execution_count": 18,
          "metadata": {},
          "output_type": "execute_result"
        }
      ],
      "source": [
        "f1_score(y_pred,y_test ,average='weighted')"
      ]
    }
  ],
  "metadata": {
    "kernelspec": {
      "display_name": "Python 3 (ipykernel)",
      "language": "python",
      "name": "python3"
    },
    "language_info": {
      "codemirror_mode": {
        "name": "ipython",
        "version": 3
      },
      "file_extension": ".py",
      "mimetype": "text/x-python",
      "name": "python",
      "nbconvert_exporter": "python",
      "pygments_lexer": "ipython3",
      "version": "3.9.12"
    },
    "colab": {
      "provenance": []
    }
  },
  "nbformat": 4,
  "nbformat_minor": 5
}